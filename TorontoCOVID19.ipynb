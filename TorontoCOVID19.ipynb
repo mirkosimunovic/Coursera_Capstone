{
 "cells": [
  {
   "cell_type": "markdown",
   "metadata": {},
   "source": [
    "# Data Science Capstone Project:\n",
    "## Analysis of COVID-19 infections in the city of Toronto\n"
   ]
  },
  {
   "cell_type": "markdown",
   "metadata": {},
   "source": [
    "### Description of the Problem"
   ]
  },
  {
   "cell_type": "markdown",
   "metadata": {},
   "source": [
    "In the current pandemic, governments and health national agencies need all information available to be able to predict a potential new focus of infection. This is a hard task because information about COVID-19 spreads is not readily available to authorities and depend mostly on lab tests which can take days to confirm when a person is infected. For this reason, governments and health agencies are sometimes too late behind in taking the correct sanitary measures in a given urban area. Therefore, being able to predict new focus of infection would prove to be very valuable in the fight against COVID-19. We will create a clasifier machine learning model that uses the location data from previous focuses of infection in the city of Toronto and determine charasteristics that can be used to classify potential new neighborhoods where infection can spread in similar ways. These characteristics can include, for example, commercial activity in the neighborhood, outdoor sport venues, parks and shops. The model will learn which neighborhoods are likely to spread the virus and become focuses of infection given the types of activities that are commonly held by their communities. \n"
   ]
  },
  {
   "cell_type": "markdown",
   "metadata": {},
   "source": [
    "### Description of the Data"
   ]
  },
  {
   "cell_type": "markdown",
   "metadata": {},
   "source": [
    "We will use a database of COVID-19 infections in Toronto. This data set contains demographic, geographic, and severity information for all confirmed and probable cases reported to and managed by Toronto Public Health since the first case was reported in January 2020. This includes cases that are sporadic (occurring in the community) and outbreak-associated. The data are extracted from the provincial communicable disease reporting system (iPHIS) and Toronto's custom COVID-19 case management system (CORES) and combined for reporting. The complete database can be obtained from www.kaggle.com in csv format. \n",
    "\n",
    "The location venue data will be obtained from the Foursquare API. With the API, we can obtain detailed and complete lists of venues that are found in each neighborhood, within a given distance radius. These data will provide the classifier model with information about wich activities commonly take place in the neighborhood. "
   ]
  },
  {
   "cell_type": "code",
   "execution_count": null,
   "metadata": {},
   "outputs": [],
   "source": []
  }
 ],
 "metadata": {
  "kernelspec": {
   "display_name": "Python 3",
   "language": "python",
   "name": "python3"
  },
  "language_info": {
   "codemirror_mode": {
    "name": "ipython",
    "version": 3
   },
   "file_extension": ".py",
   "mimetype": "text/x-python",
   "name": "python",
   "nbconvert_exporter": "python",
   "pygments_lexer": "ipython3",
   "version": "3.7.5"
  }
 },
 "nbformat": 4,
 "nbformat_minor": 4
}
